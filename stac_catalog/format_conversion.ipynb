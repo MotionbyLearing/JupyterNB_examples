{
 "cells": [
  {
   "cell_type": "markdown",
   "metadata": {},
   "source": [
    "### Step1: Data conversion\n",
    "Read the BAG dataset, convert it to a geopaquet."
   ]
  },
  {
   "cell_type": "code",
   "execution_count": null,
   "metadata": {},
   "outputs": [],
   "source": [
    "from pathlib import Path\n",
    "from datetime import datetime\n",
    "\n",
    "# dask_geopandas, dask-expr, pyogrio\n",
    "import dask_geopandas as dg"
   ]
  },
  {
   "cell_type": "code",
   "execution_count": null,
   "metadata": {},
   "outputs": [],
   "source": [
    "# Get metadata\n",
    "data_BAG = dg.read_file('../data/downloaded/BAG/bag-light-NL.gpkg', npartitions=50)\n",
    "data_BAG"
   ]
  },
  {
   "cell_type": "code",
   "execution_count": null,
   "metadata": {},
   "outputs": [],
   "source": [
    "# Create a path to save the data\n",
    "path_BAG = Path('../data/dataset/BAG.parquet/')\n",
    "path_BAG.mkdir(exist_ok=True, parents=True)"
   ]
  },
  {
   "cell_type": "code",
   "execution_count": null,
   "metadata": {},
   "outputs": [],
   "source": [
    "# This does not work, complains about the data type of the geometry column\n",
    "# data_BAG.to_parquet(path_BAG)\n",
    "# data_BAG[['rdf_seealso', 'identificatie', 'bouwjaar', 'status', 'gebruiksdoel',\n",
    "#        'oppervlakte_min', 'oppervlakte_max', 'aantal_verblijfsobjecten']].to_parquet(path_BAG) # This works because there is no geometry column\n",
    "\n",
    "for i in range(data_BAG.npartitions):\n",
    "    data_partition = data_BAG.get_partition(i).compute()\n",
    "    data_partition.to_parquet(path_BAG / f'bag_{i}.parquet')"
   ]
  },
  {
   "cell_type": "markdown",
   "metadata": {},
   "source": [
    "### Compair performace of gpkg and geopaquet\n",
    "\n",
    "Test getting two columns from the BAG dataset, and then compute the first partition. Reading from parquet is almost 50 times faster than reading from geopackage."
   ]
  },
  {
   "cell_type": "code",
   "execution_count": null,
   "metadata": {},
   "outputs": [],
   "source": [
    "%%timeit\n",
    "data_BAG_gpks = dg.read_file('../data/downloaded/BAG/bag-light-NL.gpkg', npartitions=50, columns=['bouwjaar', 'status'])\n",
    "data_BAG_slice = data_BAG_gpks.get_partition(0).compute()"
   ]
  },
  {
   "cell_type": "code",
   "execution_count": null,
   "metadata": {},
   "outputs": [],
   "source": [
    "%%timeit\n",
    "data_BAG_parque = dg.read_parquet('../data/dataset/BAG.parquet/', columns=['bouwjaar', 'status'])\n",
    "data_BAG_parque.get_partition(0).compute()"
   ]
  }
 ],
 "metadata": {
  "kernelspec": {
   "display_name": "mobyle",
   "language": "python",
   "name": "python3"
  },
  "language_info": {
   "name": "python",
   "version": "3.11.6"
  }
 },
 "nbformat": 4,
 "nbformat_minor": 2
}
