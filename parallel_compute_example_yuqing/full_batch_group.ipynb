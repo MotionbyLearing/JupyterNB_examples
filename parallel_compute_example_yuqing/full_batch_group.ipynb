{
 "cells": [
  {
   "cell_type": "markdown",
   "metadata": {},
   "source": [
    "# Import packages"
   ]
  },
  {
   "cell_type": "code",
   "execution_count": null,
   "metadata": {},
   "outputs": [],
   "source": [
    "# Standard packages\n",
    "import numpy as np\n",
    "import matplotlib.pyplot as plt\n",
    "\n",
    "# # Parallel processing packages\n",
    "# import dask\n",
    "import xarray as xr\n",
    "# import zarr\n",
    "# import sarxarray\n",
    "\n",
    "# # For plotting \n",
    "# import contextily as cx\n",
    "# import pyproj\n",
    "\n",
    "# # Import required toolboxes\n",
    "import sys\n",
    "# sys.path.append('/Users/wangyuqing/software/lambda')\n",
    "sys.path.append('./')\n",
    "import LAMBDA\n",
    "\n",
    "# # For debugging\n",
    "# import dask\n",
    "# from dask.distributed import Client\n",
    "# dask.config.set(scheduler=\"synchronous\") "
   ]
  },
  {
   "cell_type": "code",
   "execution_count": null,
   "metadata": {},
   "outputs": [],
   "source": [
    "from dask.distributed import Client\n",
    "client = Client()  # start distributed scheduler locally.\n",
    "client"
   ]
  },
  {
   "cell_type": "markdown",
   "metadata": {},
   "source": [
    "# Set parameters"
   ]
  },
  {
   "cell_type": "code",
   "execution_count": null,
   "metadata": {},
   "outputs": [],
   "source": [
    "# set wavelength of Sentinel-1 (C-band)\n",
    "wavelength = 0.055465763 #m\n",
    "\n",
    "# Initial gauss for the sigma of the unknown parameters\n",
    "sigma_offset = 1 #mm\n",
    "sigma_vel =  0.5 #mm/yr\n",
    "sigma_h = 5 #m\n",
    "sigma_ther = 0.05 #mm/°C"
   ]
  },
  {
   "cell_type": "markdown",
   "metadata": {},
   "source": [
    "# Load the STM"
   ]
  },
  {
   "cell_type": "code",
   "execution_count": null,
   "metadata": {},
   "outputs": [],
   "source": [
    "stm = xr.open_zarr('./stm_amsterdam_173p.zarr')\n",
    "# stm = stm.isel(time=range(50))\n",
    "stm\n"
   ]
  },
  {
   "cell_type": "code",
   "execution_count": null,
   "metadata": {},
   "outputs": [],
   "source": [
    "# # DEBUG: only use the first 100 time steps\n",
    "# stm = stm.isel(time=range(100))"
   ]
  },
  {
   "cell_type": "code",
   "execution_count": null,
   "metadata": {},
   "outputs": [],
   "source": [
    "mother_epoch = '20150711'\n",
    "mother_idx = np.where(stm.time == mother_epoch)[0][0]\n",
    "\n",
    "dates = stm['dates'].to_numpy()\n",
    "days = stm['days']\n",
    "years = stm['years']\n",
    "# temp = stm.temperature.to_numpy()\n",
    "temp = stm['temperature']\n",
    "\n",
    "# Select the point with the smallest NMAD for initialization as the reference point\n",
    "nmad_init = np.array(stm.nmad_init)\n",
    "ref_pnt_index= np.argmin(nmad_init)\n",
    "ref_pnt_index"
   ]
  },
  {
   "cell_type": "code",
   "execution_count": null,
   "metadata": {},
   "outputs": [],
   "source": [
    "# # Make a Spatial plot\n",
    "\n",
    "# plt.figure(figsize = (15, 10)) \n",
    "# ax = plt.subplot(1, 1, 1)\n",
    "# #fig, ax = plt.subplots(figsize = (15,15))\n",
    "# ax.scatter(stm.lon.data, stm.lat.data, s=30, color = 'tab:red', label = 'PS')\n",
    "\n",
    "# # for i in range(0, len(stm.space)-1):\n",
    "# #     print(i)\n",
    "# #     pnt_i_idx = i\n",
    "# #     for j in range(i+1, len(stm.space)):\n",
    "# for i in range(ref_pnt_index, ref_pnt_index+1):\n",
    "#     pnt_i_idx = i\n",
    "#     for j in range(0, len(stm.space)):\n",
    "#     # for j in range(4, 5):\n",
    "#         if j != i: \n",
    "#             pnt_j_idx = j\n",
    "#             #ax.scatter(stm.isel(space = pnt_j_idx).lon, stm.isel(space = pnt_j_idx).lat, s=20, color = 'tab:green')\n",
    "#             ax.plot([stm.isel(space = pnt_i_idx).lon, stm.isel(space = pnt_j_idx).lon], [stm.isel(space = pnt_i_idx).lat, stm.isel(space = pnt_j_idx).lat], color = 'orange', alpha=0.5)\n",
    "            \n",
    "# ax.set_xlabel('Longitude', fontsize = 20)\n",
    "# ax.set_ylabel('Latitude', fontsize = 20)\n",
    "# ax.legend(loc=4)\n",
    "# cx.add_basemap(ax, crs='epsg:4326', source=cx.providers.OpenStreetMap.Mapnik, zoom = 17)\n"
   ]
  },
  {
   "cell_type": "markdown",
   "metadata": {},
   "source": [
    "# Full batch solution"
   ]
  },
  {
   "cell_type": "code",
   "execution_count": null,
   "metadata": {},
   "outputs": [],
   "source": [
    "# Q_b = np.diag([sigma_offset**2, sigma_vel**2, sigma_h**2, sigma_ther**2])\n",
    "# A1 = np.diag([-2*np.pi] * len(dates))\n",
    "# B1 = np.ones((len(dates),4))\n",
    "\n",
    "# for i in range(ref_pnt_index, ref_pnt_index+1):\n",
    "#     pnt_i_idx = i\n",
    "#     for j in range(len(stm.space)):\n",
    "#         pnt_j_idx = j\n",
    "#         print(j)\n",
    "\n",
    "\n",
    "#         # Extract information of the two points of the arc\n",
    "#         sd_complex_i =  stm.isel(space = pnt_i_idx).sd_complex\n",
    "#         slc_quality_i = stm.isel(space = pnt_i_idx).slc_quality\n",
    "#         h2ph_i = stm.isel(space = pnt_i_idx).h2ph_values\n",
    "\n",
    "\n",
    "#         sd_complex_j=  stm.isel(space = pnt_j_idx).sd_complex\n",
    "#         slc_quality_j = stm.isel(space = pnt_j_idx).slc_quality\n",
    "#         h2ph_j = stm.isel(space = pnt_j_idx).h2ph_values\n",
    "\n",
    "\n",
    "#         # Compute DD for the arc\n",
    "#         dd_arc = sd_complex_j*sd_complex_i.conj()\n",
    "#         # # Compute the diagonal of the VCM of the DD phases\n",
    "#         Qyy_diagonal = np.sqrt((slc_quality_i)**2 + (slc_quality_j)**2)\n",
    "\n",
    "#         # dd_arc, Qyy_diagonal = compute_dd(sd_complex_i, sd_complex_j, slc_quality_i, slc_quality_j, 0, dates, mother_idx)\n",
    "\n",
    "#         # Compute the variance covariance matrix of the DD based on the NMAD for the arc\n",
    "#         Qyy = np.identity(len(stm.time))*Qyy_diagonal.to_numpy()**2\n",
    "\n",
    "#         # Compute 'mean' h2ph value for the arc (which we currently model as the average of the two time series)\n",
    "#         h2ph_arc = (h2ph_i + h2ph_j)/2\n",
    "#         h2ph_arc = h2ph_arc.to_numpy()\n",
    "\n",
    "#         # Get the wrapped phase\n",
    "#         phs_wrapped = np.angle(dd_arc)\n",
    "\n",
    "#         # Define y and the corresponding VQM Qyy\n",
    "#         y = np.append(phs_wrapped, [0, 0, 0, 0])\n",
    "#         Q_phs = Qyy\n",
    "#         # Q_b = np.diag([sigma_offset**2, sigma_vel**2, sigma_h**2, sigma_ther**2])\n",
    "#         # Qyy = np.block([[Q_phs, np.zeros((Q_phs.shape[0], Q_b.shape[1]))],\n",
    "#         #                 [np.zeros((Q_b.shape[0], Q_phs.shape[1])), Q_b]])\n",
    "\n",
    "#         # Define the design matrices\n",
    "#         # A1 = np.diag([-2*np.pi] * len(dates))\n",
    "#         # B2 = np.diag([1] * 4)\n",
    "#         # C = np.block([[A1, np.zeros((A1.shape[0], B2.shape[1]))],\n",
    "#         #                 [np.zeros((B2.shape[0], A1.shape[1])), B2]])\n",
    "\n",
    "#         # B1 = np.ones((len(dates),4))\n",
    "#         B1[:,1] = years*(-4*np.pi/wavelength/1000)\n",
    "#         B1[:,2] = h2ph_arc*(-4*np.pi/wavelength)\n",
    "#         B1[:,3] = temp*(-4*np.pi/wavelength/1000)\n",
    "#         # C[:len(phs_wrapped), -4:] = B1\n",
    "\n",
    "#         # Float solution with least-squares\n",
    "#         ahat = phs_wrapped/(-2*np.pi)\n",
    "#         Qahat = 1/(4*((np.pi)**2)) * (Q_phs + B1@Q_b@B1.T)\n",
    "\n",
    "\n",
    "#         # Lambda method - Integer bootstrapping\n",
    "#         afixed,sqnorm,Ps,Qzhat,Z,nfixed,mu = LAMBDA.main(ahat,Qahat,3)\n",
    "\n",
    "#         # Calculate the unwrapped phase [rad]\n",
    "#         phs_unw  = phs_wrapped - A1@afixed\n",
    "        \n",
    "#         # Get the estimated parameters\n",
    "#         b_hat = np.linalg.inv((B1.T@np.linalg.inv(Q_phs)@B1))@B1.T@np.linalg.inv(Q_phs)@phs_unw\n",
    "        \n",
    "#         # Get the phase for estimated DD observation, non-thermal displacement, height difference and thermal expension [rad]\n",
    "#         phs_est = B1@b_hat\n",
    "#         phs_dis =  B1[:,:2]@b_hat[:2]\n",
    "#         phs_height = B1[:,2]*b_hat[2]\n",
    "#         phs_ther = B1[:,3]*b_hat[3]\n",
    "\n",
    "#         # Get the phase for estimated DD observation, non-thermal displacement, height difference and thermal expension [mm]\n",
    "#         dis_est = phs_est*(-wavelength/(4*np.pi)*1000)\n",
    "#         dis_dis = phs_dis*(-wavelength/(4*np.pi)*1000)\n",
    "#         dis_height = phs_height*(-wavelength/(4*np.pi)*1000)\n",
    "#         dis_ther = phs_ther*(-wavelength/(4*np.pi)*1000)\n",
    "\n",
    "#         # Get the wrapped and unwrapped phase [mm]\n",
    "#         dis_wrapped = phs_wrapped*(-wavelength/(4*np.pi)*1000)\n",
    "#         dis_unw = phs_unw*(-wavelength/(4*np.pi)*1000)\n"
   ]
  },
  {
   "cell_type": "code",
   "execution_count": null,
   "metadata": {},
   "outputs": [],
   "source": [
    "def full_batch_one_group(stm_pnt, slc_quality_ref, h2ph_ref):\n",
    "    \n",
    "    # stm_pnt = stm_pnt.compute()\n",
    "    slc_quality_pnts = stm_pnt['slc_quality']\n",
    "    h2ph_pnts = stm_pnt['h2ph_values']\n",
    "    dd_arc = stm_pnt['dd_complex']\n",
    "    # # Compute the diagonal of the VCM of the dd phases\n",
    "    Qyy_diagonal = np.sqrt((slc_quality_ref)**2 + (slc_quality_pnts)**2)\n",
    "\n",
    "\n",
    "    # Compute the variance covariance matrix of the DD based on the NMAD for the arc\n",
    "    Qyy = np.identity(len(stm_pnt.time))*Qyy_diagonal.to_numpy()**2\n",
    "\n",
    "    # Compute 'mean' h2ph value for the arc (which we currently model as the average of the two time series)\n",
    "    \n",
    "    h2ph_arc = (h2ph_ref + h2ph_pnts)/2\n",
    "    # h2ph_arc = h2ph_arc.to_numpy()\n",
    "    h2ph_arc = h2ph_arc.squeeze().values\n",
    "\n",
    "    # Get the wrapped phase\n",
    "    phs_wrapped = np.angle(dd_arc)\n",
    "    phs_wrapped = phs_wrapped.squeeze()\n",
    "\n",
    "    # Define y and the corresponding VQM Qyy\n",
    "    # y = np.append(phs_wrapped, [0, 0, 0, 0])\n",
    "    Q_phs = Qyy\n",
    "    Q_b = np.diag([sigma_offset**2, sigma_vel**2, sigma_h**2, sigma_ther**2])\n",
    "    # Qyy = np.block([[Q_phs, np.zeros((Q_phs.shape[0], Q_b.shape[1]))],\n",
    "    #                 [np.zeros((Q_b.shape[0], Q_phs.shape[1])), Q_b]])\n",
    "\n",
    "    # Define the design matrices\n",
    "    A1 = np.diag([-2*np.pi] * len(phs_wrapped))\n",
    "    # B2 = np.diag([1] * 4)\n",
    "    # C = np.block([[A1, np.zeros((A1.shape[0], B2.shape[1]))],\n",
    "    #                 [np.zeros((B2.shape[0], A1.shape[1])), B2]])\n",
    "\n",
    "    B1 = np.ones((phs_wrapped.shape[0],4))\n",
    "    B1[:,1] = years*(-4*np.pi/wavelength/1000)\n",
    "    B1[:,2] = h2ph_arc*(-4*np.pi/wavelength)\n",
    "    B1[:,3] = temp*(-4*np.pi/wavelength/1000)\n",
    "    # C[:len(phs_wrapped), -4:] = B1\n",
    "\n",
    "    # Float solution with least-squares\n",
    "    ahat = phs_wrapped/(-2*np.pi)\n",
    "    Qahat = 1/(4*((np.pi)**2)) * (Q_phs + B1@Q_b@B1.T)\n",
    "\n",
    "\n",
    "    # Lambda method - Integer bootstrapping\n",
    "    afixed,sqnorm,Ps,Qzhat,Z,nfixed,mu = LAMBDA.main(ahat,Qahat,3)\n",
    "\n",
    "    # Calculate the unwrapped phase [rad]\n",
    "    phs_unw  = phs_wrapped - A1@afixed\n",
    "    \n",
    "    # Get the estimated parameters\n",
    "    b_hat = np.linalg.inv((B1.T@np.linalg.inv(Q_phs)@B1))@B1.T@np.linalg.inv(Q_phs)@phs_unw\n",
    "    \n",
    "    # Get the phase for estimated DD observation, non-thermal displacement, height difference and thermal expension [rad]\n",
    "    phs_est = B1@b_hat\n",
    "    phs_dis =  B1[:,:2]@b_hat[:2]\n",
    "    phs_height = B1[:,2]*b_hat[2]\n",
    "    phs_ther = B1[:,3]*b_hat[3]\n",
    "\n",
    "    # Get the phase for estimated DD observation, non-thermal displacement, height difference and thermal expension [mm]\n",
    "    dis_est = phs_est*(-wavelength/(4*np.pi)*1000)\n",
    "    dis_dis = phs_dis*(-wavelength/(4*np.pi)*1000)\n",
    "    dis_height = phs_height*(-wavelength/(4*np.pi)*1000)\n",
    "    dis_ther = phs_ther*(-wavelength/(4*np.pi)*1000)\n",
    "\n",
    "    # Get the wrapped and unwrapped phase [mm]\n",
    "    dis_wrapped = phs_wrapped*(-wavelength/(4*np.pi)*1000)\n",
    "    dis_unw = phs_unw*(-wavelength/(4*np.pi)*1000)\n",
    "\n",
    "    ds_out = stm_pnt.copy()\n",
    "    ds_out = ds_out.assign(dis_wrapped=((ds_out.dims), np.expand_dims(dis_wrapped, axis=0)))\n",
    "    ds_out = ds_out.assign(dis_unw=((ds_out.dims), np.expand_dims(dis_unw, axis=0)))\n",
    "    ds_out = ds_out.assign(dis_est=((ds_out.dims), np.expand_dims(dis_est, axis=0)))\n",
    "    ds_out = ds_out.assign(dis_dis=((ds_out.dims), np.expand_dims(dis_dis, axis=0)))\n",
    "    ds_out = ds_out.assign(dis_height=((ds_out.dims), np.expand_dims(dis_height, axis=0)))\n",
    "    ds_out = ds_out.assign(dis_ther=((ds_out.dims), np.expand_dims(dis_ther, axis=0)))\n",
    "\n",
    "    ds_out['vel'] = xr.DataArray(np.array([b_hat[1]]), dims=('space'), coords={'space': ds_out.space.values})\n",
    "    ds_out['height'] = xr.DataArray(np.array([b_hat[2]]), dims=('space'), coords={'space': ds_out.space.values})\n",
    "    ds_out['ther'] = xr.DataArray(np.array([b_hat[3]]), dims=('space'), coords={'space': ds_out.space.values})\n",
    "\n",
    "    return ds_out\n"
   ]
  },
  {
   "cell_type": "code",
   "execution_count": null,
   "metadata": {},
   "outputs": [],
   "source": [
    "def full_batch_chunk(ds, sd_complex_ref, slc_quality_ref, h2ph_ref):\n",
    "    \"\"\"\n",
    "    Given temporal differnces of point i and point j we compute the double difference phase \n",
    "    We also compute the quality of the arc time series \n",
    "\n",
    "    point i is the reference point and is subtracted from point j:\n",
    "    sd_complex_conj_i = sd_complex_i.conj()\n",
    "    dd_arc = sd_complex_j*sd_complex_conj_i\n",
    "\n",
    "    Remark that the output of the quality is the sigma of the DD phase. \n",
    "\n",
    "    Example:\n",
    "        dd_arc, Qyy_diagonal_sigma = compute_dd(sd_complex_i, sd_complex_j,sd_quality_i, sd_quality_j, plot, dates, mother_idx)\n",
    "\n",
    "\n",
    "    Code is as follows:\n",
    "        sd_complex_conj_i = sd_complex_i.conj()\n",
    "        dd_arc = sd_complex_j*sd_complex_conj_i\n",
    "       \n",
    "        Qyy_diagonal_sigma = np.sqrt((sd_quality_i)**2 + (sd_quality_j)**2)\n",
    "    \"\"\"\n",
    "    ds_out = ds.copy()\n",
    "    slc_complex_pnts =  ds['sd_complex']\n",
    "    # slc_quality_pnts = ds['slc_quality']\n",
    "    sd_complex_conj_ref = sd_complex_ref.conj()\n",
    "    dd_arc = slc_complex_pnts*sd_complex_conj_ref\n",
    "\n",
    "    # # # Compute the diagonal of the VCM of the dd phases\n",
    "    # Qyy_diagonal = np.sqrt((slc_quality_ref)**2 + (slc_quality_pnts)**2)\n",
    "\n",
    "    ds_out['dd_complex'] = dd_arc\n",
    "    # ds_out['Qyy_diagonal'] = Qyy_diagonal\n",
    "    # ds_out['h2ph_arc'] = h2ph_arc\n",
    "\n",
    "    # # Load chunk in memory\n",
    "    # ds_out = ds_out.compute()\n",
    "\n",
    "    groups = ds_out.groupby(\"space\")\n",
    "    ds_analysis = groups.map(\n",
    "        full_batch_one_group,\n",
    "        slc_quality_ref = slc_quality_ref, \n",
    "        h2ph_ref = h2ph_ref\n",
    "    )\n",
    "\n",
    "    return ds_analysis\n"
   ]
  },
  {
   "cell_type": "code",
   "execution_count": null,
   "metadata": {},
   "outputs": [],
   "source": [
    "sd_complex_ref_com = stm.isel(space = ref_pnt_index)['sd_complex'].compute()\n",
    "slc_quality_ref_com = stm.isel(space = ref_pnt_index)['slc_quality'].compute()\n",
    "h2ph_ref_com = stm.isel(space = ref_pnt_index)['h2ph_values'].compute()"
   ]
  },
  {
   "cell_type": "code",
   "execution_count": null,
   "metadata": {},
   "outputs": [],
   "source": [
    "stm_new = stm.copy()\n",
    "stm_new['dd_complex'] = stm_new['sd_complex'].copy()\n",
    "stm_new['Qyy_diagonal'] = stm_new['slc_amplitude'].copy()\n",
    "stm_new['dis_wrapped'] = stm_new['slc_amplitude'].copy()\n",
    "stm_new['dis_unw'] = stm_new['slc_amplitude'].copy()\n",
    "stm_new['dis_est'] = stm_new['slc_amplitude'].copy()\n",
    "stm_new['dis_dis'] = stm_new['slc_amplitude'].copy()\n",
    "stm_new['dis_height'] = stm_new['slc_amplitude'].copy()\n",
    "stm_new['dis_ther'] = stm_new['slc_amplitude'].copy()\n",
    "stm_new['vel'] = stm_new['nmad_full'].copy()\n",
    "stm_new['height'] = stm_new['nmad_full'].copy()\n",
    "stm_new['ther'] = stm_new['nmad_full'].copy()\n",
    "stm_new"
   ]
  },
  {
   "cell_type": "code",
   "execution_count": null,
   "metadata": {},
   "outputs": [],
   "source": [
    "# stm_new = stm_new.chunk({\"space\": 20, \"time\": -1})\n",
    "# stm_new"
   ]
  },
  {
   "cell_type": "code",
   "execution_count": null,
   "metadata": {},
   "outputs": [],
   "source": [
    "list_keep = ['dd_complex', 'Qyy_diagonal','dis_wrapped', 'dis_unw','dis_est', 'dis_dis', 'dis_height', 'dis_ther','vel', 'height','ther','slc_quality','h2ph_values','sd_complex','slc_amplitude','nmad_full']\n",
    "list_drop = [var for var in list(stm_new.data_vars.keys()) if var not in list_keep]"
   ]
  },
  {
   "cell_type": "code",
   "execution_count": null,
   "metadata": {},
   "outputs": [],
   "source": [
    "stm_new_in = stm_new.drop_vars(list_drop)\n",
    "stm_new_in = stm_new_in.chunk({\"space\": 50, \"time\": -1})\n",
    "# stm_new_in = stm_new_in.chunk({\"space\": 50, \"time\": 50})"
   ]
  },
  {
   "cell_type": "code",
   "execution_count": null,
   "metadata": {},
   "outputs": [],
   "source": [
    "# dask.visualize(stm_new_in['sd_complex'])"
   ]
  },
  {
   "cell_type": "code",
   "execution_count": null,
   "metadata": {},
   "outputs": [],
   "source": [
    "stm_new2 = xr.map_blocks(full_batch_chunk, stm_new_in, kwargs = {\"sd_complex_ref\": sd_complex_ref_com, \"slc_quality_ref\": slc_quality_ref_com, \"h2ph_ref\": h2ph_ref_com}, template = stm_new_in)\n",
    "stm_new2"
   ]
  },
  {
   "cell_type": "code",
   "execution_count": null,
   "metadata": {},
   "outputs": [],
   "source": [
    "# dask.visualize(stm_new2['sd_complex'])"
   ]
  },
  {
   "cell_type": "code",
   "execution_count": null,
   "metadata": {},
   "outputs": [],
   "source": [
    "# stm_new2 = stm_new2.chunk({\"space\": 20, \"time\": -1})\n",
    "# stm_new2"
   ]
  },
  {
   "cell_type": "code",
   "execution_count": null,
   "metadata": {},
   "outputs": [],
   "source": [
    "list_keep2 = ['dd_complex', 'Qyy_diagonal','dis_wrapped', 'dis_unw','dis_est', 'dis_dis', 'dis_height', 'dis_ther','vel', 'height','ther']\n",
    "# list_drop2 = [var for var in list(stm_new2.data_vars.keys()) if var not in list_keep2]"
   ]
  },
  {
   "cell_type": "code",
   "execution_count": null,
   "metadata": {},
   "outputs": [],
   "source": [
    "# stm_new = stm_new.compute()\n",
    "for var in list_keep2:\n",
    "    stm_new[var] = stm_new2[var].copy()"
   ]
  },
  {
   "cell_type": "code",
   "execution_count": null,
   "metadata": {},
   "outputs": [],
   "source": [
    "stm_new_comp = stm_new.compute()\n",
    "# stm_new_comp = stm_new"
   ]
  },
  {
   "cell_type": "code",
   "execution_count": null,
   "metadata": {},
   "outputs": [],
   "source": [
    "stm_new_comp"
   ]
  },
  {
   "cell_type": "code",
   "execution_count": null,
   "metadata": {},
   "outputs": [],
   "source": [
    "# import dask\n",
    "# dask.visualize(stm_new_comp['Qyy_diagonal'])"
   ]
  },
  {
   "cell_type": "code",
   "execution_count": null,
   "metadata": {},
   "outputs": [],
   "source": [
    "stm_new_comp = stm_new_comp.compute()\n",
    "# stm_new_comp2 = stm_new_comp2.compute()"
   ]
  },
  {
   "cell_type": "code",
   "execution_count": null,
   "metadata": {},
   "outputs": [],
   "source": [
    "stm_new_comp = stm_new_comp.drop_encoding()\n",
    "stm_new_comp = stm_new_comp.chunk({\"space\": 50, \"time\": -1})\n",
    "stm_new_comp.to_zarr('test.zarr', mode='w')"
   ]
  },
  {
   "cell_type": "code",
   "execution_count": null,
   "metadata": {},
   "outputs": [],
   "source": [
    "dis_unw0 = stm_new_comp['dis_unw'].isel(space=0).values"
   ]
  },
  {
   "cell_type": "code",
   "execution_count": null,
   "metadata": {},
   "outputs": [],
   "source": [
    "plt.plot(dis_unw0)"
   ]
  }
 ],
 "metadata": {
  "kernelspec": {
   "display_name": "pydepsi-dev",
   "language": "python",
   "name": "python3"
  },
  "language_info": {
   "codemirror_mode": {
    "name": "ipython",
    "version": 3
   },
   "file_extension": ".py",
   "mimetype": "text/x-python",
   "name": "python",
   "nbconvert_exporter": "python",
   "pygments_lexer": "ipython3",
   "version": "3.12.5"
  }
 },
 "nbformat": 4,
 "nbformat_minor": 2
}
